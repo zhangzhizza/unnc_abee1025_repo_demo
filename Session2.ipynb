{
 "cells": [
  {
   "cell_type": "markdown",
   "id": "eb439499",
   "metadata": {},
   "source": [
    "## Special math operations"
   ]
  },
  {
   "cell_type": "code",
   "execution_count": null,
   "id": "7d5c6331",
   "metadata": {},
   "outputs": [],
   "source": [
    "# remainder operator\n",
    "\n",
    "# floor division"
   ]
  },
  {
   "cell_type": "markdown",
   "id": "3ccaad82",
   "metadata": {},
   "source": [
    "## Conditions"
   ]
  },
  {
   "cell_type": "markdown",
   "id": "d9c076ef",
   "metadata": {},
   "source": [
    "### Equality"
   ]
  },
  {
   "cell_type": "code",
   "execution_count": 19,
   "id": "fde48eba",
   "metadata": {},
   "outputs": [],
   "source": [
    "# math equality"
   ]
  },
  {
   "cell_type": "code",
   "execution_count": 20,
   "id": "329061b1",
   "metadata": {},
   "outputs": [],
   "source": [
    "# string equality"
   ]
  },
  {
   "cell_type": "code",
   "execution_count": 13,
   "id": "8e9f938c",
   "metadata": {},
   "outputs": [
    {
     "data": {
      "text/plain": [
       "True"
      ]
     },
     "execution_count": 13,
     "metadata": {},
     "output_type": "execute_result"
    }
   ],
   "source": [
    "# is operator\n",
    "a = 2\n",
    "b = 2\n",
    "a is b"
   ]
  },
  {
   "cell_type": "code",
   "execution_count": 15,
   "id": "52235d8b",
   "metadata": {},
   "outputs": [
    {
     "data": {
      "text/plain": [
       "False"
      ]
     },
     "execution_count": 15,
     "metadata": {},
     "output_type": "execute_result"
    }
   ],
   "source": [
    "a = 2\n",
    "c = 2.0\n",
    "a is c"
   ]
  },
  {
   "cell_type": "code",
   "execution_count": 16,
   "id": "3b2410fa",
   "metadata": {},
   "outputs": [
    {
     "data": {
      "text/plain": [
       "True"
      ]
     },
     "execution_count": 16,
     "metadata": {},
     "output_type": "execute_result"
    }
   ],
   "source": [
    "a == c"
   ]
  },
  {
   "cell_type": "code",
   "execution_count": 18,
   "id": "add59bae",
   "metadata": {},
   "outputs": [
    {
     "name": "stdout",
     "output_type": "stream",
     "text": [
      "Variable a memory location is 0x25d96356950\n",
      "Variable b memory location is 0x25d96356950\n",
      "Variable c memory location is 0x25d9a83d8f0\n"
     ]
    }
   ],
   "source": [
    "print('Variable a memory location is '+hex(id(a)))\n",
    "print('Variable b memory location is '+hex(id(b)))\n",
    "print('Variable c memory location is '+hex(id(c)))"
   ]
  },
  {
   "cell_type": "code",
   "execution_count": 21,
   "id": "4fbe84e0",
   "metadata": {},
   "outputs": [
    {
     "data": {
      "text/plain": [
       "True"
      ]
     },
     "execution_count": 21,
     "metadata": {},
     "output_type": "execute_result"
    }
   ],
   "source": [
    "(a == 2) is True"
   ]
  },
  {
   "cell_type": "code",
   "execution_count": 22,
   "id": "3ba459b0",
   "metadata": {},
   "outputs": [
    {
     "data": {
      "text/plain": [
       "False"
      ]
     },
     "execution_count": 22,
     "metadata": {},
     "output_type": "execute_result"
    }
   ],
   "source": [
    "(a == 2) is False"
   ]
  },
  {
   "cell_type": "code",
   "execution_count": 23,
   "id": "bb51598a",
   "metadata": {},
   "outputs": [
    {
     "data": {
      "text/plain": [
       "False"
      ]
     },
     "execution_count": 23,
     "metadata": {},
     "output_type": "execute_result"
    }
   ],
   "source": [
    "(a == 3) is True"
   ]
  },
  {
   "cell_type": "code",
   "execution_count": 24,
   "id": "68f4b439",
   "metadata": {},
   "outputs": [
    {
     "data": {
      "text/plain": [
       "True"
      ]
     },
     "execution_count": 24,
     "metadata": {},
     "output_type": "execute_result"
    }
   ],
   "source": [
    "(a == 3) is False"
   ]
  },
  {
   "cell_type": "code",
   "execution_count": 26,
   "id": "aa4fbb1c",
   "metadata": {},
   "outputs": [
    {
     "data": {
      "text/plain": [
       "True"
      ]
     },
     "execution_count": 26,
     "metadata": {},
     "output_type": "execute_result"
    }
   ],
   "source": [
    "d = None\n",
    "d is None"
   ]
  },
  {
   "cell_type": "markdown",
   "id": "fb0f3d21",
   "metadata": {},
   "source": [
    "### Inequality"
   ]
  },
  {
   "cell_type": "code",
   "execution_count": 27,
   "id": "0fe27f68",
   "metadata": {},
   "outputs": [],
   "source": [
    "# math inequality\n"
   ]
  },
  {
   "cell_type": "code",
   "execution_count": 28,
   "id": "af65a9a1",
   "metadata": {},
   "outputs": [
    {
     "data": {
      "text/plain": [
       "False"
      ]
     },
     "execution_count": 28,
     "metadata": {},
     "output_type": "execute_result"
    }
   ],
   "source": [
    "# string inequality\n",
    "'2' > '3'"
   ]
  },
  {
   "cell_type": "code",
   "execution_count": 32,
   "id": "5432b923",
   "metadata": {},
   "outputs": [
    {
     "data": {
      "text/plain": [
       "True"
      ]
     },
     "execution_count": 32,
     "metadata": {},
     "output_type": "execute_result"
    }
   ],
   "source": [
    "'3' > '2'"
   ]
  },
  {
   "cell_type": "code",
   "execution_count": 31,
   "id": "18662a93",
   "metadata": {
    "scrolled": true
   },
   "outputs": [
    {
     "data": {
      "text/plain": [
       "False"
      ]
     },
     "execution_count": 31,
     "metadata": {},
     "output_type": "execute_result"
    }
   ],
   "source": [
    "'123' > '2'"
   ]
  },
  {
   "cell_type": "code",
   "execution_count": 35,
   "id": "2dd9b80e",
   "metadata": {},
   "outputs": [
    {
     "name": "stdout",
     "output_type": "stream",
     "text": [
      "49\n",
      "50\n"
     ]
    }
   ],
   "source": [
    "#https://www.journaldev.com/23511/python-string-comparison\n",
    "print(ord('1'))\n",
    "print(ord('2'))"
   ]
  },
  {
   "cell_type": "code",
   "execution_count": 42,
   "id": "8d40c838",
   "metadata": {},
   "outputs": [
    {
     "data": {
      "text/plain": [
       "True"
      ]
     },
     "execution_count": 42,
     "metadata": {},
     "output_type": "execute_result"
    }
   ],
   "source": [
    "'zhiang' < 'zng'"
   ]
  },
  {
   "cell_type": "markdown",
   "id": "cec7a26e",
   "metadata": {},
   "source": [
    "### Floating point precision"
   ]
  },
  {
   "cell_type": "code",
   "execution_count": 43,
   "id": "a8686526",
   "metadata": {},
   "outputs": [
    {
     "name": "stdout",
     "output_type": "stream",
     "text": [
      "True\n",
      "False\n",
      "0.30000000000000004\n",
      "5.551115123125783e-17\n"
     ]
    }
   ],
   "source": [
    "print(0.1 + 0.1 == 0.2)        \n",
    "print(0.1 + 0.1 + 0.1 == 0.3)  \n",
    "print(0.1 + 0.1 + 0.1)         \n",
    "print((0.1 + 0.1 + 0.1) - 0.3)"
   ]
  },
  {
   "cell_type": "code",
   "execution_count": null,
   "id": "f2f4c2de",
   "metadata": {},
   "outputs": [],
   "source": [
    "# Never use == for floating point number!!"
   ]
  },
  {
   "cell_type": "markdown",
   "id": "75c83f2f",
   "metadata": {},
   "source": [
    "### Boolean"
   ]
  },
  {
   "cell_type": "code",
   "execution_count": 49,
   "id": "e4c73d45",
   "metadata": {},
   "outputs": [
    {
     "data": {
      "text/plain": [
       "False"
      ]
     },
     "execution_count": 49,
     "metadata": {},
     "output_type": "execute_result"
    }
   ],
   "source": [
    "# and \n",
    "\n",
    "# the meaning of 1 and 0\n",
    "\n"
   ]
  },
  {
   "cell_type": "code",
   "execution_count": null,
   "id": "40b648fb",
   "metadata": {},
   "outputs": [],
   "source": [
    "# or\n"
   ]
  },
  {
   "cell_type": "code",
   "execution_count": null,
   "id": "7d49d60e",
   "metadata": {},
   "outputs": [],
   "source": [
    "# not\n",
    "\n"
   ]
  },
  {
   "cell_type": "markdown",
   "id": "6e078a72",
   "metadata": {},
   "source": [
    "### Short circuit evaluation"
   ]
  },
  {
   "cell_type": "code",
   "execution_count": 56,
   "id": "ca39e53c",
   "metadata": {},
   "outputs": [],
   "source": [
    "import time\n",
    "def a_long_program():\n",
    "    time.sleep(10)\n",
    "    return True"
   ]
  },
  {
   "cell_type": "markdown",
   "id": "0f59e88a",
   "metadata": {},
   "source": [
    "### If"
   ]
  },
  {
   "cell_type": "code",
   "execution_count": 50,
   "id": "08797fb4",
   "metadata": {},
   "outputs": [
    {
     "name": "stdout",
     "output_type": "stream",
     "text": [
      "larger than 10!\n"
     ]
    }
   ],
   "source": [
    "a = 50\n",
    "if a > 10:\n",
    "    print('larger than 10!')"
   ]
  },
  {
   "cell_type": "code",
   "execution_count": 51,
   "id": "2687ead4",
   "metadata": {},
   "outputs": [
    {
     "name": "stdout",
     "output_type": "stream",
     "text": [
      "larger than 10!\n",
      "larger than 20!\n",
      "larger than 30!\n",
      "larger than 40!\n"
     ]
    }
   ],
   "source": [
    "a = 50\n",
    "if a > 10:\n",
    "    print('larger than 10!')\n",
    "if a > 20:\n",
    "    print('larger than 20!')\n",
    "if a > 30:\n",
    "    print('larger than 30!')\n",
    "if a > 40:\n",
    "    print('larger than 40!')\n",
    "if a > 50:\n",
    "    print('larger than 50!')\n",
    "    "
   ]
  },
  {
   "cell_type": "markdown",
   "id": "9145d595",
   "metadata": {},
   "source": [
    "### if-else"
   ]
  },
  {
   "cell_type": "code",
   "execution_count": null,
   "id": "1189581c",
   "metadata": {},
   "outputs": [],
   "source": [
    "a = 50\n",
    "if a > 10:\n",
    "    print('larger than 10!')\n",
    "else:\n",
    "    print('smaller than or equal to 10!')"
   ]
  },
  {
   "cell_type": "markdown",
   "id": "06e1bb05",
   "metadata": {},
   "source": [
    "### if-elif-else"
   ]
  },
  {
   "cell_type": "code",
   "execution_count": 55,
   "id": "68f49552",
   "metadata": {},
   "outputs": [
    {
     "name": "stdout",
     "output_type": "stream",
     "text": [
      "other options!\n"
     ]
    }
   ],
   "source": [
    "a = 10\n",
    "if a > 10:\n",
    "    print('larger than 10!')\n",
    "elif a > 20:\n",
    "    print('larger than 20!')\n",
    "elif a > 30:\n",
    "    print('larger than 30!')\n",
    "elif a > 40:\n",
    "    print('larger than 40!')\n",
    "elif a > 50:\n",
    "    print('larger than 50!')\n",
    "else:\n",
    "    print('other options!')"
   ]
  },
  {
   "cell_type": "markdown",
   "id": "6f6b8984",
   "metadata": {},
   "source": [
    "### In-correct useage of conditions"
   ]
  },
  {
   "cell_type": "code",
   "execution_count": null,
   "id": "0f29c514",
   "metadata": {},
   "outputs": [],
   "source": [
    "# Wrong:\n",
    "b = True\n",
    "if (not b):\n",
    "    print('no')\n",
    "else:\n",
    "    print('yes')\n",
    "\n",
    "# Right:\n",
    "b = True\n",
    "if (b):\n",
    "    print('yes')\n",
    "else:\n",
    "    print('no')"
   ]
  },
  {
   "cell_type": "code",
   "execution_count": null,
   "id": "5d320f1b",
   "metadata": {},
   "outputs": [],
   "source": [
    "# Wrong:\n",
    "b = False\n",
    "if (b):\n",
    "    pass\n",
    "else:\n",
    "    print('no')\n",
    "    \n",
    "# Right:\n",
    "b = False\n",
    "if (not b):\n",
    "    print('no')"
   ]
  },
  {
   "cell_type": "code",
   "execution_count": null,
   "id": "54d78a6a",
   "metadata": {},
   "outputs": [],
   "source": [
    "# Wrong (though not so wrong...):\n",
    "b1 = True\n",
    "b2 = True\n",
    "if (b1):\n",
    "    if (b2):\n",
    "        print('both!')\n",
    "        \n",
    "# Right (well, maybe just \"preferred\"):\n",
    "b1 = True\n",
    "b2 = True\n",
    "if (b1 and b2):\n",
    "        print('both!')"
   ]
  },
  {
   "cell_type": "code",
   "execution_count": null,
   "id": "df07654f",
   "metadata": {},
   "outputs": [],
   "source": [
    "# Wrong:\n",
    "b = True\n",
    "if (b):\n",
    "    print('yes')\n",
    "if (not b):\n",
    "    print('no')\n",
    "    \n",
    "# Right:\n",
    "b = True\n",
    "if (b):\n",
    "    print('yes')\n",
    "else:\n",
    "    print('no')"
   ]
  },
  {
   "cell_type": "code",
   "execution_count": null,
   "id": "7a5ed489",
   "metadata": {},
   "outputs": [],
   "source": [
    "# Wrong:\n",
    "x = 10\n",
    "if (x < 5):\n",
    "    print('small')\n",
    "if ((x >= 5) and (x < 10)):\n",
    "    print('medium')\n",
    "if ((x >= 10) and (x < 15)):\n",
    "    print('large')\n",
    "if (x >= 15):\n",
    "    print('extra large')\n",
    "    \n",
    "# Right:\n",
    "x = 10\n",
    "if (x < 5):\n",
    "    print('small')\n",
    "elif (x < 10):\n",
    "    print('medium')\n",
    "elif (x < 15):\n",
    "    print('large')\n",
    "else:\n",
    "    print('extra large')"
   ]
  },
  {
   "cell_type": "markdown",
   "id": "e2fa239c",
   "metadata": {},
   "source": [
    "## Function"
   ]
  },
  {
   "cell_type": "code",
   "execution_count": null,
   "id": "6a0f61c7",
   "metadata": {},
   "outputs": [],
   "source": [
    "def triple(n):\n",
    "    return n * 3"
   ]
  },
  {
   "cell_type": "code",
   "execution_count": null,
   "id": "d477c5e2",
   "metadata": {},
   "outputs": [],
   "source": [
    "# a function with many arguments\n"
   ]
  },
  {
   "cell_type": "code",
   "execution_count": null,
   "id": "3440504e",
   "metadata": {},
   "outputs": [],
   "source": [
    "# a function with no arguments "
   ]
  },
  {
   "cell_type": "code",
   "execution_count": null,
   "id": "1fc0c544",
   "metadata": {},
   "outputs": [],
   "source": [
    "# a function with another function as arguments"
   ]
  },
  {
   "cell_type": "code",
   "execution_count": null,
   "id": "73b58456",
   "metadata": {},
   "outputs": [],
   "source": [
    "# a function with key word argument"
   ]
  },
  {
   "cell_type": "code",
   "execution_count": null,
   "id": "55be84e5",
   "metadata": {},
   "outputs": [],
   "source": [
    "# a function with another function inside\n"
   ]
  },
  {
   "cell_type": "code",
   "execution_count": null,
   "id": "d3fe713d",
   "metadata": {},
   "outputs": [],
   "source": [
    "# effect of return"
   ]
  },
  {
   "cell_type": "code",
   "execution_count": null,
   "id": "350854af",
   "metadata": {},
   "outputs": [],
   "source": [
    "# a function without an return"
   ]
  },
  {
   "cell_type": "code",
   "execution_count": 58,
   "id": "0a63cfba",
   "metadata": {},
   "outputs": [
    {
     "data": {
      "text/plain": [
       "20"
      ]
     },
     "execution_count": 58,
     "metadata": {},
     "output_type": "execute_result"
    }
   ],
   "source": [
    "# variable scope\n"
   ]
  },
  {
   "cell_type": "code",
   "execution_count": null,
   "id": "da58ce3b",
   "metadata": {},
   "outputs": [],
   "source": [
    "def f(w):\n",
    "    return 10*w\n",
    "\n",
    "def g(x, y):\n",
    "    return f(3*x) + y\n",
    "\n",
    "def h(z):\n",
    "    return f(g(z, f(z+1)))\n",
    "\n",
    "# what is the output of h(1)?"
   ]
  },
  {
   "cell_type": "markdown",
   "id": "9d176b5f",
   "metadata": {},
   "source": [
    "### Test function"
   ]
  },
  {
   "cell_type": "code",
   "execution_count": 2,
   "id": "8e04d289",
   "metadata": {},
   "outputs": [
    {
     "ename": "AssertionError",
     "evalue": "",
     "output_type": "error",
     "traceback": [
      "\u001b[1;31m---------------------------------------------------------------------------\u001b[0m",
      "\u001b[1;31mAssertionError\u001b[0m                            Traceback (most recent call last)",
      "\u001b[1;32m<ipython-input-2-ae5158e343a7>\u001b[0m in \u001b[0;36m<module>\u001b[1;34m\u001b[0m\n\u001b[1;32m----> 1\u001b[1;33m \u001b[1;32massert\u001b[0m\u001b[1;33m(\u001b[0m\u001b[1;36m1\u001b[0m \u001b[1;33m==\u001b[0m \u001b[1;36m2\u001b[0m\u001b[1;33m)\u001b[0m\u001b[1;33m\u001b[0m\u001b[1;33m\u001b[0m\u001b[0m\n\u001b[0m",
      "\u001b[1;31mAssertionError\u001b[0m: "
     ]
    }
   ],
   "source": []
  },
  {
   "cell_type": "markdown",
   "id": "9a63567b",
   "metadata": {},
   "source": [
    "## in-class practive"
   ]
  },
  {
   "cell_type": "markdown",
   "id": "9ebf437a",
   "metadata": {},
   "source": [
    "### P1"
   ]
  },
  {
   "cell_type": "code",
   "execution_count": null,
   "id": "a99888a8",
   "metadata": {},
   "outputs": [],
   "source": [
    "# almost_equal\n",
    "def almost_equal(a, b, eps):\n",
    "    \"\"\"\n",
    "    Perform equality for two floating numbers\n",
    "    \n",
    "    Args:\n",
    "    ----------\n",
    "    a: float\n",
    "        The first floating number\n",
    "    b: float\n",
    "        The second floating number\n",
    "    eps: float\n",
    "        Comparison tolerance\n",
    "        \n",
    "    Return:\n",
    "    ----------\n",
    "    Return true if the absolute difference between a and b\n",
    "    is smaller than or equal to eps, else, return False\n",
    "    For example:\n",
    "    1. almost_equal(1, 1.001, 0.001) --> True\n",
    "    2. almost_equal(1, 1.001, 0.0001) --> False\n",
    "    \"\"\""
   ]
  },
  {
   "cell_type": "markdown",
   "id": "6f228a7e",
   "metadata": {},
   "source": [
    "### P2"
   ]
  },
  {
   "cell_type": "code",
   "execution_count": null,
   "id": "81a8560a",
   "metadata": {},
   "outputs": [],
   "source": [
    "# abs1\n",
    "def abs1(a):\n",
    "    \"\"\"\n",
    "    Return the absolute value of the given value\n",
    "    \n",
    "    Args:\n",
    "    ----------\n",
    "    a: float or int\n",
    "        A float or integer\n",
    "        \n",
    "    Return:\n",
    "    ----------\n",
    "    Return the absolute value of a\n",
    "    For example:\n",
    "    1. abs1(1) --> 1\n",
    "    2. abs1(-1) --> 1\n",
    "    3. abs1(0) --> 0\n",
    "    \"\"\""
   ]
  },
  {
   "cell_type": "markdown",
   "id": "922b3424",
   "metadata": {},
   "source": [
    "### P3"
   ]
  },
  {
   "cell_type": "code",
   "execution_count": null,
   "id": "26d7b335",
   "metadata": {},
   "outputs": [],
   "source": [
    "def get_degree_classification(grade):\n",
    "    \"\"\"\n",
    "    Return the degree classification given the grade\n",
    "    \n",
    "    Args:\n",
    "    ----------\n",
    "    a: float\n",
    "        The grade\n",
    "        \n",
    "    Return:\n",
    "    ----------\n",
    "    If the grade is below 40, return \"Not pass\"\n",
    "    If the 40 <= grade < 50, return \"Third class\"\n",
    "    If the 50 <= grade < 60, return \"Lower second\"\n",
    "    If the 60 <= grade < 70, return \"Upper second\"\n",
    "    If the 70 <= grade, return \"First\"\n",
    "    \"\"\""
   ]
  },
  {
   "cell_type": "markdown",
   "id": "1960dafe",
   "metadata": {},
   "source": [
    "### P4"
   ]
  },
  {
   "cell_type": "markdown",
   "id": "7f1f8974",
   "metadata": {},
   "source": [
    "isLegalTriangle(s1, s2, s3)\n",
    "Write the function isLegalTriangle(s1, s2, s3) that takes three int or float values representing the lengths of the sides of a triangle, and returns True if such a triangle exists and False otherwise. Note from the triangle inequality that the sum of each two sides must be greater than the third side, and further note that all sides of a legal triangle must be positive. Hint: how can you determine the longest side, and how might that help?"
   ]
  },
  {
   "cell_type": "code",
   "execution_count": null,
   "id": "bb31cb68",
   "metadata": {},
   "outputs": [],
   "source": []
  },
  {
   "cell_type": "markdown",
   "id": "2e2365d7",
   "metadata": {},
   "source": [
    "### P5"
   ]
  },
  {
   "cell_type": "markdown",
   "id": "8e54d44b",
   "metadata": {},
   "source": [
    "cat2human_age(cat_age)\n",
    "The first two years of a cats life are equivalent to the first 25 years of a humans life. Each additional year in the cats life after this equates to four ‘human years’. \n",
    "a.\tWrite a function which converts a cats age in years to human years. \n",
    "i.\tWhat is the cats ‘human age’ when it is 1 year old? (answer = 12.5 years)\n",
    "ii.\tWhat is the cats ‘human age’ when it is 10 years old? (answer = 57 years)\n",
    "\n",
    "cat2human_age(cat_age_year, cat_age_month)\n",
    "b.\tExtend your function to convert the cats age in years and months to human years and months. \n",
    "i.\tWhat is the cats ‘human age’ when it is 1 year and 2 months old? (answer = 14 years 7 months)\n",
    "ii.\tWhat is the cats ‘human age’ when it is 7 years and 8 months years old? (answer = 47 years 8 months)\n"
   ]
  },
  {
   "cell_type": "code",
   "execution_count": null,
   "id": "3fca786f",
   "metadata": {},
   "outputs": [],
   "source": []
  },
  {
   "cell_type": "markdown",
   "id": "79bf5281",
   "metadata": {},
   "source": [
    "### P6"
   ]
  },
  {
   "cell_type": "markdown",
   "id": "3358a9fc",
   "metadata": {},
   "source": [
    "bottle_boxes(bottles)\n",
    "Write the function bottle_boxes(bottles) that takes a non-negative integer number of bottles, and returns the smallest integer number of boxes that is required to hold the number of bottles. Each box can up to 9 bottles.\n",
    "For example:\n",
    "bottle_boxes(5) --> 1\n",
    "bottle_boxes(9) --> 1\n",
    "bottle_boxes(10) --> 2\n",
    "bottle_boxes(18) --> 2"
   ]
  },
  {
   "cell_type": "code",
   "execution_count": null,
   "id": "53f8417d",
   "metadata": {},
   "outputs": [],
   "source": []
  },
  {
   "cell_type": "markdown",
   "id": "d93ce115",
   "metadata": {},
   "source": [
    "### P7"
   ]
  },
  {
   "cell_type": "markdown",
   "id": "bbbebbc9",
   "metadata": {},
   "source": [
    "pascals_triangle_value(row, col)\n",
    "Write the function pascals_triangle_value(row, col) that takes int values row and col, and returns the value in the given row and column of Pascal's Triangle where the triangle starts at row 0, and each row starts at column 0. If either row or col are not legal values, return None, instead of crashing. Hint: math.factorial may be helpful! \n",
    "What is Pascal's Triangle?\n",
    "https://www.mathsisfun.com/pascals-triangle.html"
   ]
  },
  {
   "cell_type": "code",
   "execution_count": null,
   "id": "14b999b1",
   "metadata": {},
   "outputs": [],
   "source": []
  },
  {
   "cell_type": "markdown",
   "id": "572215d5",
   "metadata": {},
   "source": [
    "### P8"
   ]
  },
  {
   "cell_type": "markdown",
   "id": "98b2a512",
   "metadata": {},
   "source": [
    "set_kth_digit(n, k, d)\n",
    "Write the function set_kth_digit(n, k, d) that takes three integers -- n, k, and d -- where n is a possibly-negative int, k is a non-negative int, and d is a non-negative single digit (between 0 and 9 inclusive). This function returns the number n with the kth digit replaced with d. Counting starts at 0 and goes right-to-left, so the 0th digit is the rightmost digit. For example:\n",
    "set_kth_digit(358, 0, 1) == 351\n",
    "set_kth_digit(156, 1, 2) == 126\n",
    "set_kth_digit(982, 2, 4) == 482\n",
    "set_kth_digit(195, 3, 2) == 2195"
   ]
  },
  {
   "cell_type": "code",
   "execution_count": 10,
   "id": "b927948b",
   "metadata": {},
   "outputs": [
    {
     "data": {
      "text/plain": [
       "0"
      ]
     },
     "execution_count": 10,
     "metadata": {},
     "output_type": "execute_result"
    }
   ],
   "source": [
    "# Hint\n",
    "# How to mathematically extract the nth digit of a number\n",
    "\n",
    "a = 1025\n",
    "n = 2\n",
    "a//(10**n)%10"
   ]
  },
  {
   "cell_type": "code",
   "execution_count": 108,
   "id": "d62fd741",
   "metadata": {},
   "outputs": [
    {
     "data": {
      "text/plain": [
       "0"
      ]
     },
     "execution_count": 108,
     "metadata": {},
     "output_type": "execute_result"
    }
   ],
   "source": [
    "191//"
   ]
  },
  {
   "cell_type": "code",
   "execution_count": null,
   "id": "1add985a",
   "metadata": {},
   "outputs": [],
   "source": []
  }
 ],
 "metadata": {
  "kernelspec": {
   "display_name": "Python 3 (ipykernel)",
   "language": "python",
   "name": "python3"
  },
  "language_info": {
   "codemirror_mode": {
    "name": "ipython",
    "version": 3
   },
   "file_extension": ".py",
   "mimetype": "text/x-python",
   "name": "python",
   "nbconvert_exporter": "python",
   "pygments_lexer": "ipython3",
   "version": "3.8.10"
  }
 },
 "nbformat": 4,
 "nbformat_minor": 5
}
